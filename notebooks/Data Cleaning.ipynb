{
 "cells": [
  {
   "cell_type": "markdown",
   "metadata": {},
   "source": [
    "# Data Cleaning\n",
    "***\n",
    "In this notebook the data was cleaned and prepared for EDA and modeling. Initially data types and statistical attributes were explored. Null values and duplicate rows were appropriately addressed. Then the text data was cleaned in the following order:\n",
    " - Transformed into lower case\n",
    " - Stripped of digits\n",
    " - Contractions expanded\n",
    " - Emojis transformed into words\n",
    " - Stripped of punctuation\n",
    " - Stripped of white space\n",
    " - Filtered from stop words\n",
    " - Lemmatized\n",
    " \n",
    "Using the lang_detect library each review was tagged with an abbreviation of the language it was written in. Density features such as word/sentence count and different punctuation counts in a review were also created. Finally the textstat library is used to create even more features.\n",
    "***"
   ]
  },
  {
   "cell_type": "code",
   "execution_count": 1,
   "metadata": {},
   "outputs": [],
   "source": [
    "# Import libraries for data cleaning and text-preprocessing\n",
    "import pandas as pd\n",
    "import numpy as np"
   ]
  },
  {
   "cell_type": "code",
   "execution_count": 2,
   "metadata": {},
   "outputs": [
    {
     "data": {
      "text/html": [
       "<div>\n",
       "<style scoped>\n",
       "    .dataframe tbody tr th:only-of-type {\n",
       "        vertical-align: middle;\n",
       "    }\n",
       "\n",
       "    .dataframe tbody tr th {\n",
       "        vertical-align: top;\n",
       "    }\n",
       "\n",
       "    .dataframe thead th {\n",
       "        text-align: right;\n",
       "    }\n",
       "</style>\n",
       "<table border=\"1\" class=\"dataframe\">\n",
       "  <thead>\n",
       "    <tr style=\"text-align: right;\">\n",
       "      <th></th>\n",
       "      <th>title</th>\n",
       "      <th>platform</th>\n",
       "      <th>metascore</th>\n",
       "      <th>metasentiment</th>\n",
       "      <th>average_userscore</th>\n",
       "      <th>average_usersentiment</th>\n",
       "      <th>developer</th>\n",
       "      <th>genre</th>\n",
       "      <th>number_of_players</th>\n",
       "      <th>esrb_rating</th>\n",
       "      <th>release_date</th>\n",
       "      <th>username</th>\n",
       "      <th>userscore</th>\n",
       "      <th>usersentiment</th>\n",
       "      <th>review</th>\n",
       "      <th>review_date</th>\n",
       "    </tr>\n",
       "  </thead>\n",
       "  <tbody>\n",
       "    <tr>\n",
       "      <th>0</th>\n",
       "      <td>Red Dead Redemption 2</td>\n",
       "      <td>Xbox One</td>\n",
       "      <td>97.0</td>\n",
       "      <td>positive</td>\n",
       "      <td>7.8</td>\n",
       "      <td>positive</td>\n",
       "      <td>Rockstar Games</td>\n",
       "      <td>Action adventure</td>\n",
       "      <td>Up to 32</td>\n",
       "      <td>M</td>\n",
       "      <td>Oct 26, 2018</td>\n",
       "      <td>gnadenlos</td>\n",
       "      <td>7</td>\n",
       "      <td>mixed</td>\n",
       "      <td>The main problem is, that it's not a real open...</td>\n",
       "      <td>Nov  1, 2018</td>\n",
       "    </tr>\n",
       "    <tr>\n",
       "      <th>1</th>\n",
       "      <td>Red Dead Redemption 2</td>\n",
       "      <td>Xbox One</td>\n",
       "      <td>97.0</td>\n",
       "      <td>positive</td>\n",
       "      <td>7.8</td>\n",
       "      <td>positive</td>\n",
       "      <td>Rockstar Games</td>\n",
       "      <td>Action adventure</td>\n",
       "      <td>Up to 32</td>\n",
       "      <td>M</td>\n",
       "      <td>Oct 26, 2018</td>\n",
       "      <td>Feriatus</td>\n",
       "      <td>7</td>\n",
       "      <td>mixed</td>\n",
       "      <td>It's not a bad game but the gameplay is an out...</td>\n",
       "      <td>Oct 29, 2018</td>\n",
       "    </tr>\n",
       "    <tr>\n",
       "      <th>2</th>\n",
       "      <td>Red Dead Redemption 2</td>\n",
       "      <td>Xbox One</td>\n",
       "      <td>97.0</td>\n",
       "      <td>positive</td>\n",
       "      <td>7.8</td>\n",
       "      <td>positive</td>\n",
       "      <td>Rockstar Games</td>\n",
       "      <td>Action adventure</td>\n",
       "      <td>Up to 32</td>\n",
       "      <td>M</td>\n",
       "      <td>Oct 26, 2018</td>\n",
       "      <td>ponux</td>\n",
       "      <td>7</td>\n",
       "      <td>mixed</td>\n",
       "      <td>Visually superb (except cutscenes), good (not ...</td>\n",
       "      <td>Nov  5, 2018</td>\n",
       "    </tr>\n",
       "    <tr>\n",
       "      <th>3</th>\n",
       "      <td>Red Dead Redemption 2</td>\n",
       "      <td>Xbox One</td>\n",
       "      <td>97.0</td>\n",
       "      <td>positive</td>\n",
       "      <td>7.8</td>\n",
       "      <td>positive</td>\n",
       "      <td>Rockstar Games</td>\n",
       "      <td>Action adventure</td>\n",
       "      <td>Up to 32</td>\n",
       "      <td>M</td>\n",
       "      <td>Oct 26, 2018</td>\n",
       "      <td>Picklock</td>\n",
       "      <td>5</td>\n",
       "      <td>mixed</td>\n",
       "      <td>Great looking game backed up by clumsy, overly...</td>\n",
       "      <td>Nov  4, 2018</td>\n",
       "    </tr>\n",
       "    <tr>\n",
       "      <th>4</th>\n",
       "      <td>Red Dead Redemption 2</td>\n",
       "      <td>Xbox One</td>\n",
       "      <td>97.0</td>\n",
       "      <td>positive</td>\n",
       "      <td>7.8</td>\n",
       "      <td>positive</td>\n",
       "      <td>Rockstar Games</td>\n",
       "      <td>Action adventure</td>\n",
       "      <td>Up to 32</td>\n",
       "      <td>M</td>\n",
       "      <td>Oct 26, 2018</td>\n",
       "      <td>Saints</td>\n",
       "      <td>6</td>\n",
       "      <td>mixed</td>\n",
       "      <td>Red Dead Redemption 2 is an amazing game that ...</td>\n",
       "      <td>Oct 30, 2018</td>\n",
       "    </tr>\n",
       "  </tbody>\n",
       "</table>\n",
       "</div>"
      ],
      "text/plain": [
       "                   title  platform  metascore metasentiment  \\\n",
       "0  Red Dead Redemption 2  Xbox One       97.0      positive   \n",
       "1  Red Dead Redemption 2  Xbox One       97.0      positive   \n",
       "2  Red Dead Redemption 2  Xbox One       97.0      positive   \n",
       "3  Red Dead Redemption 2  Xbox One       97.0      positive   \n",
       "4  Red Dead Redemption 2  Xbox One       97.0      positive   \n",
       "\n",
       "   average_userscore average_usersentiment       developer             genre  \\\n",
       "0                7.8              positive  Rockstar Games  Action adventure   \n",
       "1                7.8              positive  Rockstar Games  Action adventure   \n",
       "2                7.8              positive  Rockstar Games  Action adventure   \n",
       "3                7.8              positive  Rockstar Games  Action adventure   \n",
       "4                7.8              positive  Rockstar Games  Action adventure   \n",
       "\n",
       "  number_of_players esrb_rating  release_date   username  userscore  \\\n",
       "0          Up to 32           M  Oct 26, 2018  gnadenlos          7   \n",
       "1          Up to 32           M  Oct 26, 2018   Feriatus          7   \n",
       "2          Up to 32           M  Oct 26, 2018      ponux          7   \n",
       "3          Up to 32           M  Oct 26, 2018   Picklock          5   \n",
       "4          Up to 32           M  Oct 26, 2018     Saints          6   \n",
       "\n",
       "  usersentiment                                             review  \\\n",
       "0         mixed  The main problem is, that it's not a real open...   \n",
       "1         mixed  It's not a bad game but the gameplay is an out...   \n",
       "2         mixed  Visually superb (except cutscenes), good (not ...   \n",
       "3         mixed  Great looking game backed up by clumsy, overly...   \n",
       "4         mixed  Red Dead Redemption 2 is an amazing game that ...   \n",
       "\n",
       "    review_date  \n",
       "0  Nov  1, 2018  \n",
       "1  Oct 29, 2018  \n",
       "2  Nov  5, 2018  \n",
       "3  Nov  4, 2018  \n",
       "4  Oct 30, 2018  "
      ]
     },
     "execution_count": 2,
     "metadata": {},
     "output_type": "execute_result"
    }
   ],
   "source": [
    "# Load data\n",
    "gameReviews = pd.read_csv('MetacriticGameReviews.csv', index_col=0)\n",
    "gameReviews.head()"
   ]
  },
  {
   "cell_type": "code",
   "execution_count": 3,
   "metadata": {},
   "outputs": [],
   "source": [
    "#gameReviews.review[0]"
   ]
  },
  {
   "cell_type": "markdown",
   "metadata": {},
   "source": [
    "### Initial data exploration\n",
    "***"
   ]
  },
  {
   "cell_type": "code",
   "execution_count": 4,
   "metadata": {},
   "outputs": [
    {
     "name": "stdout",
     "output_type": "stream",
     "text": [
      "<class 'pandas.core.frame.DataFrame'>\n",
      "Int64Index: 21075 entries, 0 to 21074\n",
      "Data columns (total 16 columns):\n",
      " #   Column                 Non-Null Count  Dtype  \n",
      "---  ------                 --------------  -----  \n",
      " 0   title                  21075 non-null  object \n",
      " 1   platform               21075 non-null  object \n",
      " 2   metascore              21045 non-null  float64\n",
      " 3   metasentiment          21045 non-null  object \n",
      " 4   average_userscore      21045 non-null  float64\n",
      " 5   average_usersentiment  21045 non-null  object \n",
      " 6   developer              21045 non-null  object \n",
      " 7   genre                  21060 non-null  object \n",
      " 8   number_of_players      17595 non-null  object \n",
      " 9   esrb_rating            20565 non-null  object \n",
      " 10  release_date           21060 non-null  object \n",
      " 11  username               21075 non-null  object \n",
      " 12  userscore              21075 non-null  int64  \n",
      " 13  usersentiment          21075 non-null  object \n",
      " 14  review                 21073 non-null  object \n",
      " 15  review_date            21075 non-null  object \n",
      "dtypes: float64(2), int64(1), object(13)\n",
      "memory usage: 2.7+ MB\n"
     ]
    }
   ],
   "source": [
    "# Save shape of dataframe to compare after data is cleaned\n",
    "init_shape = gameReviews.shape\n",
    "\n",
    "# Check dtypes of each feature\n",
    "gameReviews.info()"
   ]
  },
  {
   "cell_type": "markdown",
   "metadata": {},
   "source": [
    "***\n",
    ">Many of the features are of the object type including the release and review date which may be of better us as time series type. There appears to be a significant amount of null values for the \"number_of_players\" column and a small amount of nulls for a few others.\n",
    "***"
   ]
  },
  {
   "cell_type": "code",
   "execution_count": 5,
   "metadata": {},
   "outputs": [
    {
     "data": {
      "text/html": [
       "<div>\n",
       "<style scoped>\n",
       "    .dataframe tbody tr th:only-of-type {\n",
       "        vertical-align: middle;\n",
       "    }\n",
       "\n",
       "    .dataframe tbody tr th {\n",
       "        vertical-align: top;\n",
       "    }\n",
       "\n",
       "    .dataframe thead th {\n",
       "        text-align: right;\n",
       "    }\n",
       "</style>\n",
       "<table border=\"1\" class=\"dataframe\">\n",
       "  <thead>\n",
       "    <tr style=\"text-align: right;\">\n",
       "      <th></th>\n",
       "      <th>count</th>\n",
       "      <th>mean</th>\n",
       "      <th>std</th>\n",
       "      <th>min</th>\n",
       "      <th>25%</th>\n",
       "      <th>50%</th>\n",
       "      <th>75%</th>\n",
       "      <th>max</th>\n",
       "    </tr>\n",
       "  </thead>\n",
       "  <tbody>\n",
       "    <tr>\n",
       "      <th>metascore</th>\n",
       "      <td>21045.0</td>\n",
       "      <td>75.761226</td>\n",
       "      <td>11.006157</td>\n",
       "      <td>17.0</td>\n",
       "      <td>70.0</td>\n",
       "      <td>78.0</td>\n",
       "      <td>83.0</td>\n",
       "      <td>97.0</td>\n",
       "    </tr>\n",
       "    <tr>\n",
       "      <th>average_userscore</th>\n",
       "      <td>21045.0</td>\n",
       "      <td>6.763792</td>\n",
       "      <td>1.618301</td>\n",
       "      <td>0.2</td>\n",
       "      <td>6.1</td>\n",
       "      <td>7.2</td>\n",
       "      <td>7.9</td>\n",
       "      <td>9.6</td>\n",
       "    </tr>\n",
       "    <tr>\n",
       "      <th>userscore</th>\n",
       "      <td>21075.0</td>\n",
       "      <td>6.769300</td>\n",
       "      <td>3.425507</td>\n",
       "      <td>0.0</td>\n",
       "      <td>4.0</td>\n",
       "      <td>8.0</td>\n",
       "      <td>10.0</td>\n",
       "      <td>10.0</td>\n",
       "    </tr>\n",
       "  </tbody>\n",
       "</table>\n",
       "</div>"
      ],
      "text/plain": [
       "                     count       mean        std   min   25%   50%   75%   max\n",
       "metascore          21045.0  75.761226  11.006157  17.0  70.0  78.0  83.0  97.0\n",
       "average_userscore  21045.0   6.763792   1.618301   0.2   6.1   7.2   7.9   9.6\n",
       "userscore          21075.0   6.769300   3.425507   0.0   4.0   8.0  10.0  10.0"
      ]
     },
     "execution_count": 5,
     "metadata": {},
     "output_type": "execute_result"
    }
   ],
   "source": [
    "# Checkout basic statistical qualities for numerical features\n",
    "gameReviews.describe().T"
   ]
  },
  {
   "cell_type": "markdown",
   "metadata": {},
   "source": [
    "***\n",
    ">The average critic score tends to be around 76 which appear to be on a 10:1 scale compared to user scores. The average user scores and individual user scores both match around a score of 6.8.\n",
    "***"
   ]
  },
  {
   "cell_type": "markdown",
   "metadata": {},
   "source": [
    "### Dealing with nulls and duplicate rows\n",
    "***"
   ]
  },
  {
   "cell_type": "code",
   "execution_count": 6,
   "metadata": {},
   "outputs": [
    {
     "name": "stdout",
     "output_type": "stream",
     "text": [
      "Missing Data percentage for metascore is 0.14%\n",
      "Missing Data percentage for metasentiment is 0.14%\n",
      "Missing Data percentage for average_userscore is 0.14%\n",
      "Missing Data percentage for average_usersentiment is 0.14%\n",
      "Missing Data percentage for developer is 0.14%\n",
      "Missing Data percentage for genre is 0.07%\n",
      "Missing Data percentage for number_of_players is 16.51%\n",
      "Missing Data percentage for esrb_rating is 2.42%\n",
      "Missing Data percentage for release_date is 0.07%\n",
      "Missing Data percentage for review is 0.01%\n"
     ]
    }
   ],
   "source": [
    "# There appears to be some missing values, check for percentage of missing values in each column\n",
    "def missingData(df): # Function retrieved from github.com/ithisted/PetAdoptionPrediction/blob/master/PetAdoptionPrediction.ipynb\n",
    "    missing = False\n",
    "    \n",
    "    for item in (df.isnull().sum()).iteritems():\n",
    "        if item[1] > 0:\n",
    "            print('Missing Data percentage for '+item[0]+' is {:2.2%}'.format((item[1]/df.shape[0])) )\n",
    "            missing = True\n",
    "    if not missing:\n",
    "        print('Found no missing values.')\n",
    "\n",
    "# Check which columns have nulls and what percent of nulls are present\n",
    "missingData(gameReviews)"
   ]
  },
  {
   "cell_type": "code",
   "execution_count": 7,
   "metadata": {},
   "outputs": [
    {
     "name": "stdout",
     "output_type": "stream",
     "text": [
      "Missing Data percentage for number_of_players is 15.93%\n"
     ]
    }
   ],
   "source": [
    "# Drop rows of missing values of columns with 2% or less of nulls\n",
    "def dropMissing(df, drop_list):\n",
    "    df = df.dropna(axis=0, subset=drop_list)\n",
    "    return df\n",
    "\n",
    "# Initialize a list of column names to drop the nulls from\n",
    "toDrop = ['metascore', 'metasentiment', 'average_userscore', 'average_usersentiment', 'developer', 'esrb_rating','review']\n",
    "\n",
    "# Call the function and check again for missing values, should only be 'number_of_players'\n",
    "gameReviews = dropMissing(gameReviews, toDrop)\n",
    "missingData(gameReviews)"
   ]
  },
  {
   "cell_type": "code",
   "execution_count": 8,
   "metadata": {},
   "outputs": [
    {
     "data": {
      "text/plain": [
       "No Online Multiplayer    8025\n",
       "NaN                      3270\n",
       "Up to 4                  1860\n",
       "2                        1559\n",
       "Up to 8                  1140\n",
       "Up to 10                  705\n",
       "Up to 6                   645\n",
       "Up to 12                  570\n",
       "Up to 16                  434\n",
       "Up to 22                  390\n",
       "Online Multiplayer        330\n",
       "Up to 5                   225\n",
       "Up to 18                  195\n",
       "Up to 24                  180\n",
       "Up to 64                  165\n",
       "Up to more than 64        165\n",
       "Up to 3                   150\n",
       "Massively Multiplayer     150\n",
       "Up to 20                  105\n",
       "Up to 32                   75\n",
       "Up to 40                   75\n",
       "Up to 30                   45\n",
       "Up to 60                   45\n",
       "1 Player                   30\n",
       "Name: number_of_players, dtype: int64"
      ]
     },
     "execution_count": 8,
     "metadata": {},
     "output_type": "execute_result"
    }
   ],
   "source": [
    "# Explore different values of 'number_of_players column'\n",
    "gameReviews.number_of_players.value_counts(dropna=False)"
   ]
  },
  {
   "cell_type": "markdown",
   "metadata": {},
   "source": [
    "***\n",
    ">To address the null values in the number_of_players column, the titles for the games having a null value were explored. There were a mixture of singleplayer and multiplayer games missing values for the number of players. Each title was googled to see if the game was a single or multiplayer game. \n",
    "<br><br>\n",
    "Then, to reduce the amount of different, uneccessary amount of values for the 'number_of_players' columns of the dataframe, the game titles for 'No Online Multiplayer' games were also explored. Mostly all, if not all were single player games. For simplicity, the 'number_of_players' columns is then converted to a binary columnn where a game is either a single player game (values of 'No Online Multiplayer' and '1 Player) or multiplayer game (all other values).\n",
    "***"
   ]
  },
  {
   "cell_type": "code",
   "execution_count": 9,
   "metadata": {},
   "outputs": [],
   "source": [
    "# Explore titles of null 'number_of_players' values\n",
    "titles_of_null_nop = pd.unique(gameReviews[gameReviews.number_of_players.isnull()]['title'])\n",
    "#titles_of_null_nop"
   ]
  },
  {
   "cell_type": "code",
   "execution_count": 10,
   "metadata": {},
   "outputs": [],
   "source": [
    "# Initialize a list with all multiplayer games\n",
    "multiplayer = ['NBA 2K17',\n",
    "              'Call of Duty: Modern Warfare Remastered',\n",
    "               'Destiny: The Taken King',\n",
    "               'DiRT Rally',\n",
    "               'Killer Instinct: Definitive Edition',\n",
    "               'Destiny 2: Forsaken',\n",
    "               'Project CARS 2',\n",
    "               'FIFA 18',\n",
    "               'Sonic Mania',\n",
    "               'Child of Light',\n",
    "               'Brothers: A Tale of Two Sons',\n",
    "               'Guitar Hero Live',\n",
    "               'NHL 18',\n",
    "               'Peggle 2',\n",
    "               'World of Tanks',\n",
    "               'Need for Speed: Rivals',\n",
    "               'Resident Evil: Revelations 2',\n",
    "               'Project Spark',\n",
    "               'Titanfall: Expedition',\n",
    "               'Phantom Dust',\n",
    "               'Madden NFL 25',\n",
    "               \"Mirror's Edge Catalyst\",\n",
    "               'Destiny: House of Wolves',\n",
    "               'Never Alone',\n",
    "               'Powerstar Golf',\n",
    "               'The Golf Club',\n",
    "               'The Crew',\n",
    "               'Resident Evil 6',\n",
    "               'Crimson Dragon',\n",
    "               'Goat Simulator',\n",
    "               'Halo: Spartan Assault',\n",
    "               'Ghostbusters',\n",
    "               'XCOM 2: War of the Chosen',\n",
    "               'Shovel Knight',\n",
    "               'Monster Hunter: World - Iceborne',\n",
    "               'Nex Machina: Death Machine',\n",
    "               'Guacamelee! Super Turbo Championship Edition',\n",
    "               'Bloodborne: The Old Hunters',\n",
    "               'TowerFall Ascension',\n",
    "               'OlliOlli2: Welcome to Olliwood',\n",
    "               'Super Mega Baseball',\n",
    "               'MLB The Show 16',\n",
    "               'Pyre',\n",
    "               'Resogun',\n",
    "               'N++',\n",
    "               'Dark Souls III: The Ringed City',\n",
    "               'Enter the Gungeon',\n",
    "               'PixelJunk Shooter Ultimate',\n",
    "               'ZEN Pinball 2',\n",
    "               'Pix the Cat',\n",
    "               'Injustice: Gods Among Us - Ultimate Edition',\n",
    "               'MLB 15: The Show',\n",
    "               'The Banner Saga',\n",
    "               'Overcooked!',\n",
    "               \"Don't Starve: Console Edition\",\n",
    "               'PlanetSide 2',\n",
    "               'Dying Light: The Following',\n",
    "               'Apotheon',\n",
    "               'Mortal Kombat 11: Aftermath',\n",
    "               'Dead Nation: Apocalypse Edition',\n",
    "               \"Assassin's Creed IV: Black Flag - Freedom Cry\",\n",
    "               'Dark Souls III: Ashes of Ariandel',\n",
    "               'Zombi',\n",
    "               'Dead Star',\n",
    "               'Knack 2',\n",
    "               'Trove',\n",
    "               'Destiny: The Dark Below',\n",
    "               'Loadout',\n",
    "               'Sniper: Ghost Warrior 3',\n",
    "               'Knack',\n",
    "               'Rayman Legends: Definitive Edition',\n",
    "               'Fast RMX',\n",
    "               'Blaster Master Zero',\n",
    "               'Overcooked!: Special Edition',\n",
    "               'NBA Playgrounds',\n",
    "               'Astro Bears Party'\n",
    "              ]"
   ]
  },
  {
   "cell_type": "code",
   "execution_count": 11,
   "metadata": {},
   "outputs": [],
   "source": [
    "# Replace all null values with either multiplayer or singleplayer\n",
    "for t in titles_of_null_nop:\n",
    "    if t in multiplayer:\n",
    "        gameReviews.loc[gameReviews.title == t, 'number_of_players'] = 'multiplayer'\n",
    "    else:\n",
    "        gameReviews.loc[gameReviews.title == t, 'number_of_players'] = 'singleplayer'"
   ]
  },
  {
   "cell_type": "code",
   "execution_count": 12,
   "metadata": {},
   "outputs": [],
   "source": [
    "# Explore titles of 'No Online Multiplayer' games\n",
    "#pd.unique(gameReviews[gameReviews.number_of_players == 'No Online Multiplayer']['title'])"
   ]
  },
  {
   "cell_type": "code",
   "execution_count": 13,
   "metadata": {},
   "outputs": [
    {
     "data": {
      "text/plain": [
       "multiplayer     10543\n",
       "singleplayer     9990\n",
       "Name: number_of_players, dtype: int64"
      ]
     },
     "execution_count": 13,
     "metadata": {},
     "output_type": "execute_result"
    }
   ],
   "source": [
    "# Retrieve all unique values in 'number_of_players' column and seperate which will be considered as single and multi player\n",
    "num_players_values = pd.unique(gameReviews.number_of_players)\n",
    "single = ['No Online Multiplayer', '1 Player', 'singleplayer']\n",
    "multi = [val for val in num_players_values if val not in single]\n",
    "\n",
    "# Replace corresponding values to get a binary column\n",
    "gameReviews['number_of_players'] = gameReviews.number_of_players.replace(single, 'singleplayer')\n",
    "gameReviews['number_of_players'] = gameReviews.number_of_players.replace(multi, 'multiplayer')\n",
    "\n",
    "# Double check only two unique values exists; singleplayer and multiplayer\n",
    "gameReviews.number_of_players.value_counts()"
   ]
  },
  {
   "cell_type": "markdown",
   "metadata": {},
   "source": [
    "***\n",
    ">After addressing all missing values, duplicate rows, if any, were eliminated from the data.\n",
    "***"
   ]
  },
  {
   "cell_type": "code",
   "execution_count": 14,
   "metadata": {},
   "outputs": [
    {
     "name": "stdout",
     "output_type": "stream",
     "text": [
      "0 duplicate rows were dropped.\n"
     ]
    }
   ],
   "source": [
    "# Check for duplicate rows and drop if any\n",
    "def dropDuplicates(df):\n",
    "    num_dups = len(df) - len(df.drop_duplicates())\n",
    "    print(num_dups, \"duplicate rows were dropped.\")\n",
    "    return df.drop_duplicates()\n",
    "\n",
    "# Call the function to drop duplicates\n",
    "gameReviews = dropDuplicates(gameReviews)\n",
    "\n",
    "# Reset index as rows of missing and duplicate values have been dropped\n",
    "gameReviews.reset_index(drop=True, inplace=True)"
   ]
  },
  {
   "cell_type": "code",
   "execution_count": 15,
   "metadata": {},
   "outputs": [
    {
     "name": "stdout",
     "output_type": "stream",
     "text": [
      "Initial shape: (21075, 16)\n",
      "Current shape: (20533, 16)\n"
     ]
    }
   ],
   "source": [
    "# Compare shape of clean dataframe to the initiail shape\n",
    "clean_shape = gameReviews.shape\n",
    "print('Initial shape:', init_shape)\n",
    "print('Current shape:', clean_shape)"
   ]
  },
  {
   "cell_type": "markdown",
   "metadata": {},
   "source": [
    "### Text cleaning\n",
    "***"
   ]
  },
  {
   "cell_type": "code",
   "execution_count": 16,
   "metadata": {},
   "outputs": [],
   "source": [
    "# Import libraries for text-processing\n",
    "from contractions import CONTRACTION_MAP\n",
    "from nltk.corpus import stopwords\n",
    "from nltk import pos_tag\n",
    "from nltk.tokenize import word_tokenize, sent_tokenize\n",
    "from nltk.stem import WordNetLemmatizer\n",
    "import nltk\n",
    "import emoji\n",
    "import string\n",
    "import re\n",
    "\n",
    "#nltk.download('wordnet')\n",
    "#nltk.download('punkt')\n",
    "#nltk.download('stopwords')"
   ]
  },
  {
   "cell_type": "code",
   "execution_count": 17,
   "metadata": {},
   "outputs": [],
   "source": [
    "def StopWords(negation=True):\n",
    "    '''Initializes stop words from nltk package with the option to remove negation words from stop word list'''\n",
    "    # Initialize stopwords\n",
    "    stop_words = stopwords.words('english')\n",
    "    # Add domain specific words to the list of stop words\n",
    "    stop_words.append('video')\n",
    "    stop_words.append('game')\n",
    "    \n",
    "    if negation:\n",
    "        # Remove negation words to extract correct sentiment\n",
    "        stop_words.remove('no')\n",
    "        stop_words.remove('not')\n",
    "        \n",
    "    return stop_words"
   ]
  },
  {
   "cell_type": "code",
   "execution_count": 18,
   "metadata": {},
   "outputs": [],
   "source": [
    "def make_lower(docs):\n",
    "    '''Transforms text into lower case'''\n",
    "    lowered = [doc.lower() for doc in docs]\n",
    "    return lowered"
   ]
  },
  {
   "cell_type": "code",
   "execution_count": 19,
   "metadata": {},
   "outputs": [],
   "source": [
    "def remove_digits(docs):\n",
    "    '''Removes digits from text'''\n",
    "    pattern = r'\\d*'\n",
    "    digitless = [re.sub(pattern, '', doc) for doc in docs]\n",
    "    return digitless"
   ]
  },
  {
   "cell_type": "code",
   "execution_count": 20,
   "metadata": {},
   "outputs": [],
   "source": [
    "# Function retrieved from https://towardsdatascience.com/a-practitioners-guide-to-natural-language-processing-part-i-processing-understanding-text-9f4abfd13e72\n",
    "def expand_contractions(docs, contraction_mapping=CONTRACTION_MAP):\n",
    "    '''Expands contractions from a predefined list of common contractions to seperate negation words\n",
    "    from stop words'''\n",
    "    \n",
    "    contractions_pattern = re.compile('({})'.format('|'.join(contraction_mapping.keys())), \n",
    "                                      flags=re.IGNORECASE|re.DOTALL)\n",
    "    def expand_match(contraction):\n",
    "        match = contraction.group(0)\n",
    "        first_char = match[0]\n",
    "        expanded_contraction = contraction_mapping.get(match)\\\n",
    "                                if contraction_mapping.get(match)\\\n",
    "                                else contraction_mapping.get(match.lower())                       \n",
    "        expanded_contraction = first_char+expanded_contraction[1:]\n",
    "        return expanded_contraction\n",
    "    \n",
    "    expanded_texts = []\n",
    "    for doc in docs:\n",
    "        expanded_text = contractions_pattern.sub(expand_match, doc)\n",
    "        expanded_text = re.sub(\"'\", \"\", expanded_text)\n",
    "        expanded_texts.append(expanded_text)\n",
    "        \n",
    "    return expanded_texts"
   ]
  },
  {
   "cell_type": "code",
   "execution_count": 21,
   "metadata": {},
   "outputs": [],
   "source": [
    "def emoji_to_words(docs):\n",
    "    '''Transforms emojis to text using emoji library'''\n",
    "    demojized = [emoji.demojize(doc) for doc in docs]\n",
    "    return demojized"
   ]
  },
  {
   "cell_type": "code",
   "execution_count": 22,
   "metadata": {},
   "outputs": [],
   "source": [
    "def remove_punctuation(docs):\n",
    "    '''Removes punctuation from text, for hyphens and '/' marks words are seperated then the marks are removed'''\n",
    "    punc_filtered = []\n",
    "    \n",
    "    # Seperate punctuation marks that are in between words from those that occur at the end of words\n",
    "    punctuation = ''.join([p for p in string.punctuation if p not in ['/','-','_']])\n",
    "    punctuation = punctuation + '’'\n",
    "    between_words = r'[/\\-\\_]'\n",
    "    \n",
    "    # Translate punctuation marks end of word punctuation marks with ''\n",
    "    table = str.maketrans(\"\",\"\",punctuation)\n",
    "    for doc in docs:\n",
    "        no_puncs = re.sub(between_words, ' ', doc)\n",
    "        no_puncs = no_puncs.translate(table)\n",
    "        punc_filtered.append(no_puncs)\n",
    "    \n",
    "    #no_puncs = [doc.translate(table) for doc in docs]\n",
    "    return punc_filtered"
   ]
  },
  {
   "cell_type": "code",
   "execution_count": 23,
   "metadata": {},
   "outputs": [],
   "source": [
    "def remove_whitespace(docs):\n",
    "    '''Removes extra white space from text'''\n",
    "    no_ws = [' '.join(doc.split()) for doc in docs]\n",
    "    return no_ws"
   ]
  },
  {
   "cell_type": "code",
   "execution_count": 24,
   "metadata": {},
   "outputs": [],
   "source": [
    "def remove_stopwords(docs):\n",
    "    ''' Removes english stop words with the addition of 'game' and 'video', considered as domain specific stop words'''\n",
    "    stopword_filtered = []\n",
    "\n",
    "    # Initialize stopwords\n",
    "    stop_words = StopWords()\n",
    "\n",
    "    for doc in docs:\n",
    "        tokens = word_tokenize(doc)\n",
    "        output = [t for t in tokens if t not in stop_words]\n",
    "        stopword_filtered.append(' '.join(output))\n",
    "  \n",
    "    return stopword_filtered"
   ]
  },
  {
   "cell_type": "code",
   "execution_count": 25,
   "metadata": {},
   "outputs": [],
   "source": [
    "def lemmatize(docs):\n",
    "    '''Converts words to their lemma form'''\n",
    "    # Initialize empty string to store lemmatized text\n",
    "    lemmatized = []\n",
    "    # Initialize lemmatizer\n",
    "    lemmatizer = WordNetLemmatizer()\n",
    "    \n",
    "    # Loop over all text files, tokenize each words, get its lemma and join lemmas to create lemmatized strings\n",
    "    for doc in docs:\n",
    "        tokens = word_tokenize(doc)\n",
    "        output = [lemmatizer.lemmatize(t) for t in tokens]\n",
    "        lemmatized.append(' '.join(output))\n",
    "    \n",
    "    return lemmatized"
   ]
  },
  {
   "cell_type": "code",
   "execution_count": 26,
   "metadata": {},
   "outputs": [],
   "source": [
    "def text_process(df, col, lower=True, contraction=True, digit=True, emoji=True, punctuation=True, whitespace=True, stopwords=True, lemma=True):\n",
    "    '''Processes a corpus of documents, allowing the user to specify how to clean text data'''\n",
    "    clean_corpus = list(df[col])\n",
    "    \n",
    "    if lower:\n",
    "        clean_corpus = make_lower(clean_corpus)\n",
    "        \n",
    "    if contraction:\n",
    "        clean_corpus = expand_contractions(clean_corpus)\n",
    "        \n",
    "    if digit:\n",
    "        clean_corpus = remove_digits(clean_corpus)\n",
    "        \n",
    "    if emoji:\n",
    "        clean_corpus = emoji_to_words(clean_corpus)\n",
    "        \n",
    "    if punctuation:\n",
    "        clean_corpus = remove_punctuation(clean_corpus)\n",
    "        \n",
    "    if whitespace:\n",
    "        clean_corpus = remove_whitespace(clean_corpus)\n",
    "\n",
    "    if stopwords:\n",
    "        clean_corpus = remove_stopwords(clean_corpus)\n",
    "        \n",
    "    if lemma:\n",
    "        clean_corpus = lemmatize(clean_corpus)\n",
    "        \n",
    "    return clean_corpus"
   ]
  },
  {
   "cell_type": "code",
   "execution_count": 27,
   "metadata": {},
   "outputs": [],
   "source": [
    "# Call function to clean the reviews to prepare them for a word vectorizer\n",
    "gameReviews['clean_text'] = text_process(gameReviews, 'review')"
   ]
  },
  {
   "cell_type": "code",
   "execution_count": 28,
   "metadata": {},
   "outputs": [
    {
     "name": "stdout",
     "output_type": "stream",
     "text": [
      "The main problem is, that it's not a real open world game. If you focus on the main story, like many reviewers and some users do, you will experience a linear and scripted game with almost no freedom. Every time you try something different the missions will fail. Controls aren't very good, so it's also hard to recommend the game for that linear story experience. The separate and real open world part is done quite well, but it doesn't have enough interesting and coherent/interlocking elements to keep you motivated very long. If you remove the linear story and high production value, it's the usual open world stuff, we've known for years, mixed with light survival elements. So what you will get is an average to good open world sandbox for maybe 15-20 hours of random fun and a separate, very scripted and cinematic game with high production value. Both parts have average gameplay and problematic controls. The only highlights and reasons to play the game are its great graphics, atmosphere and story. \n",
      "\n",
      "main problem not real open world focus main story like many reviewer user experience linear scripted almost no freedom every time try something different mission fail control not good also hard recommend linear story experience separate real open world part done quite well not enough interesting coherent interlocking element keep motivated long remove linear story high production value usual open world stuff known year mixed light survival element get average good open world sandbox maybe hour random fun separate scripted cinematic high production value part average gameplay problematic control highlight reason play great graphic atmosphere story\n"
     ]
    }
   ],
   "source": [
    "# Compare a raw review to its clean counterpart\n",
    "print(gameReviews.review[0], '\\n')\n",
    "print(gameReviews.clean_text[0])"
   ]
  },
  {
   "cell_type": "markdown",
   "metadata": {},
   "source": [
    "***\n",
    ">A raw version of the first game review for the game Red Dead Redemption 2 was compared to one that had been cleaned. The reviewer enjoys the atmosphere and enviroment of the world in Red Dead Redemption. However, they felt that the game's primary plot was too linear and not flexible in the options it provided the player to overcome major obstacles. When reading the clean version of the review, one can still extract the reviewers sentiment from the original review.\n",
    "***"
   ]
  },
  {
   "cell_type": "markdown",
   "metadata": {},
   "source": [
    "### Feature engineering\n",
    "***"
   ]
  },
  {
   "cell_type": "markdown",
   "metadata": {},
   "source": [
    "#### - Label reviews by language"
   ]
  },
  {
   "cell_type": "code",
   "execution_count": 29,
   "metadata": {},
   "outputs": [],
   "source": [
    "# Import function to determine the language of the reviews\n",
    "from langdetect import detect\n",
    "\n",
    "# Loop over all reviews and create a new feature 'language'\n",
    "language = []\n",
    "for i in range(len(gameReviews.clean_text)):\n",
    "    try:\n",
    "        lang = detect(gameReviews.clean_text[i])\n",
    "    except:\n",
    "        lang = 'Error'\n",
    "    \n",
    "    language.append(lang)\n",
    "        \n",
    "gameReviews['language'] = language"
   ]
  },
  {
   "cell_type": "markdown",
   "metadata": {},
   "source": [
    "***\n",
    ">Some of the languages for the reviews could not be determined. With the 'try', 'except' functions those reviews were labeled as 'Error' making them easy to find and check why the detect function failed to assign a language code to them.\n",
    "The problematic reviews were mostly composed of characters and digits. These reviews were all in english or characters, as such they were labeled as english.\n",
    "***"
   ]
  },
  {
   "cell_type": "code",
   "execution_count": 30,
   "metadata": {},
   "outputs": [
    {
     "name": "stdout",
     "output_type": "stream",
     "text": [
      "5\n"
     ]
    }
   ],
   "source": [
    "# Filter out the errors where the language could not be determined\n",
    "language_error = gameReviews[gameReviews['language'] == 'Error']\n",
    "print(len(language_error))"
   ]
  },
  {
   "cell_type": "code",
   "execution_count": 31,
   "metadata": {},
   "outputs": [
    {
     "name": "stdout",
     "output_type": "stream",
     "text": [
      "+++++++++++++++++++++++++++++++++++++++++++++++++++++++++++++++++++++++++++\n",
      "the same game 18, 19, 20, 21, 22, 23, 24, 25, 26, 27, 28,29,30,31,32,33,34,35,36\n",
      "A+    +\n",
      "10/10 -------------------------------------------------------------------------------------------------------------------\n",
      "---------------------------------------------------------------------------\n"
     ]
    }
   ],
   "source": [
    "# Print out all the problematic reviews as there were only 5\n",
    "for r in language_error.review:\n",
    "    print(r)"
   ]
  },
  {
   "cell_type": "code",
   "execution_count": 32,
   "metadata": {},
   "outputs": [],
   "source": [
    "# Remove rows where reviews were unusable\n",
    "gameReviews = gameReviews[gameReviews.language != 'Error']\n",
    "\n",
    "# Explore all languages present in the set of reviews\n",
    "# Language code abbreviations: https://en.wikipedia.org/wiki/List_of_ISO_639-1_codes\n",
    "#gameReviews.language.value_counts(dropna=False)"
   ]
  },
  {
   "cell_type": "markdown",
   "metadata": {},
   "source": [
    "#### - Density features"
   ]
  },
  {
   "cell_type": "code",
   "execution_count": 33,
   "metadata": {},
   "outputs": [],
   "source": [
    "# Create a number of words and sentences feature\n",
    "clean_words = text_process(gameReviews, 'review', stopwords=False, lemma=False)\n",
    "gameReviews['word_count'] = [len(word_tokenize(text)) for text in clean_words]\n",
    "gameReviews['sentence_count'] = [len(sent_tokenize(text)) for text in gameReviews.review]\n",
    "gameReviews['exclamation_count'] = [text.count('!') for text in gameReviews.review]\n",
    "gameReviews['question_count'] = [text.count('?') for text in gameReviews.review]\n",
    "gameReviews['period_count'] = [text.count('.') for text in gameReviews.review]"
   ]
  },
  {
   "cell_type": "markdown",
   "metadata": {},
   "source": [
    "#### - Textstat features"
   ]
  },
  {
   "cell_type": "code",
   "execution_count": 34,
   "metadata": {},
   "outputs": [],
   "source": [
    "import textstat\n",
    "\n",
    "# Create a feature for reading level of reviews and syllable count\n",
    "gameReviews['reading_level'] = gameReviews.review.apply(textstat.flesch_reading_ease)\n",
    "gameReviews['syllable_count'] = gameReviews.review.apply(textstat.syllable_count)"
   ]
  },
  {
   "cell_type": "markdown",
   "metadata": {},
   "source": [
    "#### - POS features"
   ]
  },
  {
   "cell_type": "code",
   "execution_count": 35,
   "metadata": {},
   "outputs": [],
   "source": [
    "# Create a column of clean words tagged with their POS\n",
    "gameReviews['POS_tagged'] = [pos_tag(word_tokenize(text)) for text in clean_words]\n",
    "\n",
    "# Initialize different POS variables to count as features\n",
    "conjunction = 'CC'\n",
    "adjectives = ['JJ', 'JJR', 'JJS']\n",
    "nouns = ['NN', 'NNS', 'NNP', 'NNPS']\n",
    "pronouns = ['PRP', 'PRP$', 'WP', 'WP$']\n",
    "adverbs = ['RB', 'RBR', 'RBS', 'WRB']\n",
    "verbs = ['VB', 'VBD', 'VBG', 'VBN', 'VBP', 'VBZ']\n",
    "\n",
    "# Initialize empty lists to add as features to df\n",
    "conj = []\n",
    "adj = []\n",
    "nn = []\n",
    "pnn = []\n",
    "adv = []\n",
    "vrb = []\n",
    "other_pos = []\n",
    "\n",
    "# Loop over POS tagged words to retrieve counts of POS of interest\n",
    "for text in gameReviews.POS_tagged:\n",
    "    # Set count variables to track POS in the reviews\n",
    "    conj_cnt = 0\n",
    "    adj_cnt = 0\n",
    "    nn_cnt = 0\n",
    "    pnn_cnt = 0\n",
    "    adv_cnt = 0\n",
    "    vrb_cnt = 0\n",
    "    others_cnt = 0\n",
    "    \n",
    "    # Count different POS for extra features\n",
    "    for tpl in text:\n",
    "        pos = tpl[1]\n",
    "        if pos == conjunction:\n",
    "            conj_cnt += 1\n",
    "        elif pos in adjectives:\n",
    "            adj_cnt += 1\n",
    "        elif pos in nouns:\n",
    "            nn_cnt += 1\n",
    "        elif pos in pronouns:\n",
    "            pnn_cnt += 1\n",
    "        elif pos in adverbs:\n",
    "            adv_cnt += 1\n",
    "        elif pos in verbs:\n",
    "            vrb_cnt += 1\n",
    "        else:\n",
    "            others_cnt += 1\n",
    "    \n",
    "    # Append POS counts to corresponding lists\n",
    "    conj.append(conj_cnt)\n",
    "    adj.append(adj_cnt)\n",
    "    nn.append(nn_cnt)\n",
    "    pnn.append(pnn_cnt)\n",
    "    adv.append(adv_cnt)\n",
    "    vrb.append(vrb_cnt)\n",
    "    other_pos.append(others_cnt)"
   ]
  },
  {
   "cell_type": "code",
   "execution_count": 36,
   "metadata": {},
   "outputs": [],
   "source": [
    "# Add POS count features to df\n",
    "gameReviews['conjunction_count'] = conj\n",
    "gameReviews['adjective_count'] = adj\n",
    "gameReviews['noun_count'] = nn\n",
    "gameReviews['pronoun_count'] = pnn\n",
    "gameReviews['adverb_count'] = adv\n",
    "gameReviews['verb_count'] = vrb\n",
    "gameReviews['other_POS_count'] = other_pos"
   ]
  },
  {
   "cell_type": "code",
   "execution_count": 37,
   "metadata": {},
   "outputs": [
    {
     "data": {
      "text/html": [
       "<div>\n",
       "<style scoped>\n",
       "    .dataframe tbody tr th:only-of-type {\n",
       "        vertical-align: middle;\n",
       "    }\n",
       "\n",
       "    .dataframe tbody tr th {\n",
       "        vertical-align: top;\n",
       "    }\n",
       "\n",
       "    .dataframe thead th {\n",
       "        text-align: right;\n",
       "    }\n",
       "</style>\n",
       "<table border=\"1\" class=\"dataframe\">\n",
       "  <thead>\n",
       "    <tr style=\"text-align: right;\">\n",
       "      <th></th>\n",
       "      <th>title</th>\n",
       "      <th>platform</th>\n",
       "      <th>metascore</th>\n",
       "      <th>metasentiment</th>\n",
       "      <th>average_userscore</th>\n",
       "      <th>average_usersentiment</th>\n",
       "      <th>developer</th>\n",
       "      <th>genre</th>\n",
       "      <th>number_of_players</th>\n",
       "      <th>esrb_rating</th>\n",
       "      <th>...</th>\n",
       "      <th>reading_level</th>\n",
       "      <th>syllable_count</th>\n",
       "      <th>POS_tagged</th>\n",
       "      <th>conjunction_count</th>\n",
       "      <th>adjective_count</th>\n",
       "      <th>noun_count</th>\n",
       "      <th>pronoun_count</th>\n",
       "      <th>adverb_count</th>\n",
       "      <th>verb_count</th>\n",
       "      <th>other_POS_count</th>\n",
       "    </tr>\n",
       "  </thead>\n",
       "  <tbody>\n",
       "    <tr>\n",
       "      <th>0</th>\n",
       "      <td>Red Dead Redemption 2</td>\n",
       "      <td>Xbox One</td>\n",
       "      <td>97.0</td>\n",
       "      <td>positive</td>\n",
       "      <td>7.8</td>\n",
       "      <td>positive</td>\n",
       "      <td>Rockstar Games</td>\n",
       "      <td>Action adventure</td>\n",
       "      <td>multiplayer</td>\n",
       "      <td>M</td>\n",
       "      <td>...</td>\n",
       "      <td>60.55</td>\n",
       "      <td>254</td>\n",
       "      <td>[(the, DT), (main, JJ), (problem, NN), (is, VB...</td>\n",
       "      <td>11</td>\n",
       "      <td>35</td>\n",
       "      <td>43</td>\n",
       "      <td>13</td>\n",
       "      <td>13</td>\n",
       "      <td>25</td>\n",
       "      <td>38</td>\n",
       "    </tr>\n",
       "    <tr>\n",
       "      <th>1</th>\n",
       "      <td>Red Dead Redemption 2</td>\n",
       "      <td>Xbox One</td>\n",
       "      <td>97.0</td>\n",
       "      <td>positive</td>\n",
       "      <td>7.8</td>\n",
       "      <td>positive</td>\n",
       "      <td>Rockstar Games</td>\n",
       "      <td>Action adventure</td>\n",
       "      <td>multiplayer</td>\n",
       "      <td>M</td>\n",
       "      <td>...</td>\n",
       "      <td>60.69</td>\n",
       "      <td>118</td>\n",
       "      <td>[(it, PRP), (is, VBZ), (not, RB), (a, DT), (ba...</td>\n",
       "      <td>4</td>\n",
       "      <td>6</td>\n",
       "      <td>22</td>\n",
       "      <td>4</td>\n",
       "      <td>2</td>\n",
       "      <td>18</td>\n",
       "      <td>23</td>\n",
       "    </tr>\n",
       "    <tr>\n",
       "      <th>2</th>\n",
       "      <td>Red Dead Redemption 2</td>\n",
       "      <td>Xbox One</td>\n",
       "      <td>97.0</td>\n",
       "      <td>positive</td>\n",
       "      <td>7.8</td>\n",
       "      <td>positive</td>\n",
       "      <td>Rockstar Games</td>\n",
       "      <td>Action adventure</td>\n",
       "      <td>multiplayer</td>\n",
       "      <td>M</td>\n",
       "      <td>...</td>\n",
       "      <td>60.89</td>\n",
       "      <td>495</td>\n",
       "      <td>[(visually, RB), (superb, JJ), (except, IN), (...</td>\n",
       "      <td>19</td>\n",
       "      <td>41</td>\n",
       "      <td>83</td>\n",
       "      <td>28</td>\n",
       "      <td>35</td>\n",
       "      <td>65</td>\n",
       "      <td>80</td>\n",
       "    </tr>\n",
       "    <tr>\n",
       "      <th>3</th>\n",
       "      <td>Red Dead Redemption 2</td>\n",
       "      <td>Xbox One</td>\n",
       "      <td>97.0</td>\n",
       "      <td>positive</td>\n",
       "      <td>7.8</td>\n",
       "      <td>positive</td>\n",
       "      <td>Rockstar Games</td>\n",
       "      <td>Action adventure</td>\n",
       "      <td>multiplayer</td>\n",
       "      <td>M</td>\n",
       "      <td>...</td>\n",
       "      <td>76.15</td>\n",
       "      <td>459</td>\n",
       "      <td>[(great, JJ), (looking, VBG), (game, NN), (bac...</td>\n",
       "      <td>9</td>\n",
       "      <td>28</td>\n",
       "      <td>73</td>\n",
       "      <td>25</td>\n",
       "      <td>37</td>\n",
       "      <td>81</td>\n",
       "      <td>99</td>\n",
       "    </tr>\n",
       "    <tr>\n",
       "      <th>4</th>\n",
       "      <td>Red Dead Redemption 2</td>\n",
       "      <td>Xbox One</td>\n",
       "      <td>97.0</td>\n",
       "      <td>positive</td>\n",
       "      <td>7.8</td>\n",
       "      <td>positive</td>\n",
       "      <td>Rockstar Games</td>\n",
       "      <td>Action adventure</td>\n",
       "      <td>multiplayer</td>\n",
       "      <td>M</td>\n",
       "      <td>...</td>\n",
       "      <td>67.49</td>\n",
       "      <td>820</td>\n",
       "      <td>[(red, JJ), (dead, JJ), (redemption, NN), (is,...</td>\n",
       "      <td>26</td>\n",
       "      <td>44</td>\n",
       "      <td>128</td>\n",
       "      <td>35</td>\n",
       "      <td>72</td>\n",
       "      <td>132</td>\n",
       "      <td>177</td>\n",
       "    </tr>\n",
       "  </tbody>\n",
       "</table>\n",
       "<p>5 rows × 33 columns</p>\n",
       "</div>"
      ],
      "text/plain": [
       "                   title  platform  metascore metasentiment  \\\n",
       "0  Red Dead Redemption 2  Xbox One       97.0      positive   \n",
       "1  Red Dead Redemption 2  Xbox One       97.0      positive   \n",
       "2  Red Dead Redemption 2  Xbox One       97.0      positive   \n",
       "3  Red Dead Redemption 2  Xbox One       97.0      positive   \n",
       "4  Red Dead Redemption 2  Xbox One       97.0      positive   \n",
       "\n",
       "   average_userscore average_usersentiment       developer             genre  \\\n",
       "0                7.8              positive  Rockstar Games  Action adventure   \n",
       "1                7.8              positive  Rockstar Games  Action adventure   \n",
       "2                7.8              positive  Rockstar Games  Action adventure   \n",
       "3                7.8              positive  Rockstar Games  Action adventure   \n",
       "4                7.8              positive  Rockstar Games  Action adventure   \n",
       "\n",
       "  number_of_players esrb_rating  ... reading_level syllable_count  \\\n",
       "0       multiplayer           M  ...         60.55            254   \n",
       "1       multiplayer           M  ...         60.69            118   \n",
       "2       multiplayer           M  ...         60.89            495   \n",
       "3       multiplayer           M  ...         76.15            459   \n",
       "4       multiplayer           M  ...         67.49            820   \n",
       "\n",
       "                                          POS_tagged conjunction_count  \\\n",
       "0  [(the, DT), (main, JJ), (problem, NN), (is, VB...                11   \n",
       "1  [(it, PRP), (is, VBZ), (not, RB), (a, DT), (ba...                 4   \n",
       "2  [(visually, RB), (superb, JJ), (except, IN), (...                19   \n",
       "3  [(great, JJ), (looking, VBG), (game, NN), (bac...                 9   \n",
       "4  [(red, JJ), (dead, JJ), (redemption, NN), (is,...                26   \n",
       "\n",
       "  adjective_count noun_count pronoun_count adverb_count  verb_count  \\\n",
       "0              35         43            13           13          25   \n",
       "1               6         22             4            2          18   \n",
       "2              41         83            28           35          65   \n",
       "3              28         73            25           37          81   \n",
       "4              44        128            35           72         132   \n",
       "\n",
       "   other_POS_count  \n",
       "0               38  \n",
       "1               23  \n",
       "2               80  \n",
       "3               99  \n",
       "4              177  \n",
       "\n",
       "[5 rows x 33 columns]"
      ]
     },
     "execution_count": 37,
     "metadata": {},
     "output_type": "execute_result"
    }
   ],
   "source": [
    "gameReviews.head()"
   ]
  },
  {
   "cell_type": "code",
   "execution_count": 38,
   "metadata": {},
   "outputs": [],
   "source": [
    "# Export data for EDA and modeling\n",
    "gameReviews.to_csv('MetacriticGameReviewsClean.csv')"
   ]
  }
 ],
 "metadata": {
  "kernelspec": {
   "display_name": "Python 3",
   "language": "python",
   "name": "python3"
  },
  "language_info": {
   "codemirror_mode": {
    "name": "ipython",
    "version": 3
   },
   "file_extension": ".py",
   "mimetype": "text/x-python",
   "name": "python",
   "nbconvert_exporter": "python",
   "pygments_lexer": "ipython3",
   "version": "3.7.7"
  }
 },
 "nbformat": 4,
 "nbformat_minor": 4
}
